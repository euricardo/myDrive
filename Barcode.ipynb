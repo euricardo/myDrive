{
  "nbformat": 4,
  "nbformat_minor": 0,
  "metadata": {
    "colab": {
      "name": "Barcode.ipynb",
      "provenance": [],
      "mount_file_id": "1Ww_Z0-tyYiR6cCsmCgKkeU-Q710GS5P8",
      "authorship_tag": "ABX9TyPwSLcXB8wwD009XBVpa7Si",
      "include_colab_link": true
    },
    "kernelspec": {
      "name": "python3",
      "display_name": "Python 3"
    },
    "language_info": {
      "name": "python"
    }
  },
  "cells": [
    {
      "cell_type": "markdown",
      "metadata": {
        "id": "view-in-github",
        "colab_type": "text"
      },
      "source": [
        "<a href=\"https://colab.research.google.com/github/euricardo/myDrive/blob/master/Barcode.ipynb\" target=\"_parent\"><img src=\"https://colab.research.google.com/assets/colab-badge.svg\" alt=\"Open In Colab\"/></a>"
      ]
    },
    {
      "cell_type": "code",
      "source": [
        "pip install python-barcode"
      ],
      "metadata": {
        "colab": {
          "base_uri": "https://localhost:8080/"
        },
        "id": "QaHt3K_7h6Cv",
        "outputId": "eb87a201-61d1-4c66-f3a1-1e33b37fe422"
      },
      "execution_count": 1,
      "outputs": [
        {
          "output_type": "stream",
          "name": "stdout",
          "text": [
            "Looking in indexes: https://pypi.org/simple, https://us-python.pkg.dev/colab-wheels/public/simple/\n",
            "Requirement already satisfied: python-barcode in /usr/local/lib/python3.7/dist-packages (0.14.0)\n"
          ]
        }
      ]
    },
    {
      "cell_type": "code",
      "source": [
        "pip install pillow"
      ],
      "metadata": {
        "colab": {
          "base_uri": "https://localhost:8080/"
        },
        "id": "PiDbL7qhfwe0",
        "outputId": "392f4de1-8d01-4cdc-9099-219751680701"
      },
      "execution_count": 2,
      "outputs": [
        {
          "output_type": "stream",
          "name": "stdout",
          "text": [
            "Looking in indexes: https://pypi.org/simple, https://us-python.pkg.dev/colab-wheels/public/simple/\n",
            "Requirement already satisfied: pillow in /usr/local/lib/python3.7/dist-packages (7.1.2)\n"
          ]
        }
      ]
    },
    {
      "cell_type": "code",
      "source": [
        "pip install qrcode"
      ],
      "metadata": {
        "colab": {
          "base_uri": "https://localhost:8080/"
        },
        "id": "jznBAAk0f7ou",
        "outputId": "8bf314c3-365e-41af-f99c-f4a86562066c"
      },
      "execution_count": 3,
      "outputs": [
        {
          "output_type": "stream",
          "name": "stdout",
          "text": [
            "Looking in indexes: https://pypi.org/simple, https://us-python.pkg.dev/colab-wheels/public/simple/\n",
            "Collecting qrcode\n",
            "  Downloading qrcode-7.3.1.tar.gz (43 kB)\n",
            "\u001b[K     |████████████████████████████████| 43 kB 1.5 MB/s \n",
            "\u001b[?25hBuilding wheels for collected packages: qrcode\n",
            "  Building wheel for qrcode (setup.py) ... \u001b[?25l\u001b[?25hdone\n",
            "  Created wheel for qrcode: filename=qrcode-7.3.1-py3-none-any.whl size=40402 sha256=5d60f049ebc4da3ddbde2db131d390c5697da545c07ade66e62c145f44d03753\n",
            "  Stored in directory: /root/.cache/pip/wheels/93/d7/39/a4111be2cfb8e679938aa671a37888b6afb1f9e7d748e94492\n",
            "Successfully built qrcode\n",
            "Installing collected packages: qrcode\n",
            "Successfully installed qrcode-7.3.1\n"
          ]
        }
      ]
    },
    {
      "cell_type": "code",
      "source": [
        "from barcode import EAN13"
      ],
      "metadata": {
        "id": "BQfIoSn7gGCK"
      },
      "execution_count": 2,
      "outputs": []
    },
    {
      "cell_type": "code",
      "source": [
        "codigo_barra = EAN13(\"123123123123\")\n",
        "codigo_barra.save(\"codigo_barra\")"
      ],
      "metadata": {
        "colab": {
          "base_uri": "https://localhost:8080/",
          "height": 34
        },
        "id": "AnuBHNN4iF0o",
        "outputId": "51eeda6b-d7e2-45a3-f3f3-3fcac951723b"
      },
      "execution_count": 4,
      "outputs": [
        {
          "output_type": "execute_result",
          "data": {
            "text/plain": [
              "'codigo_barra.svg'"
            ],
            "application/vnd.google.colaboratory.intrinsic+json": {
              "type": "string"
            }
          },
          "metadata": {},
          "execution_count": 4
        }
      ]
    },
    {
      "cell_type": "code",
      "source": [
        "from barcode.writer import ImageWriter"
      ],
      "metadata": {
        "id": "Z2DPWLzblS1u"
      },
      "execution_count": 5,
      "outputs": []
    },
    {
      "cell_type": "code",
      "source": [
        "codigo_barra = EAN13(\"123123123123\", writer=ImageWriter())\n",
        "codigo_barra.save(\"codigo_barra\")"
      ],
      "metadata": {
        "colab": {
          "base_uri": "https://localhost:8080/",
          "height": 34
        },
        "id": "TCaSsUxqldnx",
        "outputId": "52749786-d47a-4c9b-a0e6-7eb1464f9940"
      },
      "execution_count": 8,
      "outputs": [
        {
          "output_type": "execute_result",
          "data": {
            "text/plain": [
              "'codigo_barra.png'"
            ],
            "application/vnd.google.colaboratory.intrinsic+json": {
              "type": "string"
            }
          },
          "metadata": {},
          "execution_count": 8
        }
      ]
    },
    {
      "cell_type": "code",
      "source": [
        "codigo_produtos = {\n",
        "    \"ProdutoA\" : \"111111111111\" ,\n",
        "    \"ProdutoB\" : \"222222222222\" ,\n",
        "    \"ProdutoC\" : \"333333333333\" ,\n",
        "    \"ProdutoD\" : \"444444444444\" ,\n",
        "    \"ProdutoE\" : \"555555555555\" ,\n",
        "    \"ProdutoF\" : \"666666666666\" ,\n",
        "    \"ProdutoG\" : \"777777777777\" ,\n",
        "    \"ProdutoH\" : \"888888888888\" ,\n",
        "    \"ProdutoK\" : \"999999999999\" }\n",
        "\n",
        "for produto in codigo_produtos :        #  print(produto)\n",
        "  codigo = codigo_produtos[produto] # print(codigo_produtos[produto])\n",
        "  codigo_barra = EAN13(codigo, writer=ImageWriter())\n",
        "  codigo_barra.save (f\"codigo_barra_{produto}\")\n",
        "  print(f\"codigo_barra_{produto} = {codigo}\")\n",
        "\n",
        "\n",
        "  "
      ],
      "metadata": {
        "colab": {
          "base_uri": "https://localhost:8080/"
        },
        "id": "pvWhdWFbxYiT",
        "outputId": "415de9e2-9024-4931-8621-b7139f0a5776"
      },
      "execution_count": 19,
      "outputs": [
        {
          "output_type": "stream",
          "name": "stdout",
          "text": [
            "codigo_barra_ProdutoA = 111111111111\n",
            "codigo_barra_ProdutoB = 222222222222\n",
            "codigo_barra_ProdutoC = 333333333333\n",
            "codigo_barra_ProdutoD = 444444444444\n",
            "codigo_barra_ProdutoE = 555555555555\n",
            "codigo_barra_ProdutoF = 666666666666\n",
            "codigo_barra_ProdutoG = 777777777777\n",
            "codigo_barra_ProdutoH = 888888888888\n",
            "codigo_barra_ProdutoK = 999999999999\n"
          ]
        }
      ]
    },
    {
      "cell_type": "code",
      "source": [
        "import qrcode"
      ],
      "metadata": {
        "id": "POcN8syh2sDH"
      },
      "execution_count": 20,
      "outputs": []
    },
    {
      "cell_type": "code",
      "source": [
        "imagem_qrcode = qrcode.make(\"https://app.elai.io/preview/62d0cedb3ef5f2e12d10dbcc\")\n",
        "imagem_qrcode.save(\"qrcode.png\")"
      ],
      "metadata": {
        "id": "dS_WD7j52vBF"
      },
      "execution_count": 25,
      "outputs": []
    },
    {
      "cell_type": "code",
      "source": [
        "print(imagem_qrcode)"
      ],
      "metadata": {
        "colab": {
          "base_uri": "https://localhost:8080/"
        },
        "id": "yABpDvtl4V7T",
        "outputId": "86af3cdd-d2bc-4eaf-878c-4c89177062a7"
      },
      "execution_count": 26,
      "outputs": [
        {
          "output_type": "stream",
          "name": "stdout",
          "text": [
            "<qrcode.image.pil.PilImage object at 0x7fc7766f33d0>\n"
          ]
        }
      ]
    }
  ]
}